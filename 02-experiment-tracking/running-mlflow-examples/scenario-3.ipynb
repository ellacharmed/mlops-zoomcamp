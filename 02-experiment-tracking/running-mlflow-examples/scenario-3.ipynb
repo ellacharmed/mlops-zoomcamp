{
 "cells": [
  {
   "cell_type": "markdown",
   "metadata": {},
   "source": [
    "## Scenario 3: Multiple data scientists working on multiple ML models\n",
    "\n",
    "MLflow setup:\n",
    "* Tracking server: yes, remote server (EC2).\n",
    "* Backend store: postgresql database.\n",
    "* Artifacts store: s3 bucket.\n",
    "\n",
    "The experiments can be explored by accessing the remote server.\n",
    "\n",
    "The example uses AWS to host a remote server. In order to run the example you'll need an AWS account. Follow the steps described in the file `mlflow_on_aws.md` to create a new AWS account and launch the tracking server. \n"
   ]
  },
  {
   "cell_type": "markdown",
   "metadata": {},
   "source": [
    "## pre-requisites\n",
    "\n",
    "- unzip\n",
    "- awscli\n",
    "- aws account with a user, don't use root user access\n",
    "\n",
    "> [!CAUTION]\n",
    ">\n",
    "> FIXME below section still needs doing, what I've tried have all failed. Need to read up on permissions\n",
    "> ### create IAM user\n",
    ">\n",
    "> After you have succeefully create an AWS account, login as Root user \n",
    ">\n",
    "> - instead of the root user, designate an IAM user for the EC2 instance: zoomcamp\n",
    "> - in Security Credentials tab:\n",
    ">   - assign console access\n",
    ">   - create Access key ID, Secret access key\n",
    "\n",
    "### install aws cli\n",
    "\n",
    "- In local terminal, activate your venv if haven't done so\n",
    "  - [install or update to the latest version of the AWS CLI](https://docs.aws.amazon.com/cli/latest/userguide/getting-started-install.html)\n",
    "\n",
    "\n",
    "```bash\n",
    "curl \"https://awscli.amazonaws.com/awscli-exe-linux-x86_64.zip\" -o \"awscliv2.zip\"\n",
    "unzip awscliv2.zip\n",
    "sudo ./aws/install\n",
    "```\n",
    "\n",
    "- check path and version to verify successful install, ensure it is in your venv (as mine is) or in your global `/usr/bin/aws` (if venv not activated before, means install is for all projects)\n",
    "\n",
    "```bash\n",
    " which aws\n",
    "/home/ellacharmed/github/mlops-zoomcamp/.micromamba/envs/mlops/bin/aws\n",
    "\n",
    " aws --version\n",
    "aws-cli/2.15.58 Python/3.11.8 Linux/5.15.146.1-microsoft-standard-WSL2 exe/x86_64.ubuntu.22\n",
    "```\n",
    "\n",
    "- you can then remove the zip file and aws folder after installation is done\n",
    "\n",
    "- ~~login with the IAM user created before (zoomcamp),~~ and go to [](../mlflow_on_aws.md) for instructions on creating and instantiating\n",
    "  - EC2 instance to have our mlflow UI on\n",
    "  - a postgres database in RDS for the backend store\n",
    "  - an S3 bucket for the artifact store\n",
    "\n",
    "### launch the tracking server\n",
    "\n",
    "Connect to EC2 from local wsl+ubuntu. The *.pem is the ssh we setup and the string after the `'@'` is your EC2 instance's Public IPv4 DNS or your Private IPv4 addresses `172-31-39-221`\n",
    "\n",
    "```bash\n",
    "chmod 400 ~/.ssh/mlflow-aws.pem\n",
    "ssh -i \"~/.ssh/mlflow-aws.pem\" ubuntu@ec2-54-255-172-18.ap-southeast-1.compute.amazonaws.com\n",
    "```\n",
    "\n",
    "In the `ec2 terminal`, run the installation steps below\n",
    "```bash\n",
    "ubuntu@ip-172-31-39-221:~$\n",
    "```\n",
    "\n",
    "**installation steps on ec2 terminal**\n",
    "\n",
    "```bash\n",
    "sudo apt update -y && sudo apt upgrade -y\n",
    "sudo apt install python3.11.9\n",
    "which python\n",
    "pip install --upgrade pip\n",
    "which pip\n",
    "\n",
    "mkdir mlops\n",
    "cd mlops\n",
    "sudo pip3 install pipenv\n",
    "pipenv install awscli mlflow==2.12.2 boto3 psycopg2-binary\n",
    "pipenv shell\n",
    "\n",
    "aws configure # input the Access key ID,Secret access key that you download in csv format (or copy)\n",
    "aws s3 ls \n",
    "\n",
    "(mlops) ubuntu@ip-172-31-39-221:~/mlops$ aws s3 ls\n",
    "2024-05-25 13:55:10 mlflow-ella-artifacts-remote  # when you get the bucket name you had created, this whole process is successful\n",
    "\n",
    "```\n",
    "\n",
    "### launch the Backend store\n",
    "\n",
    "```bash\n",
    "in ec2 terminal:\n",
    "export DB_USER=mlflow\n",
    "export DB_PASSWORD=your_password\n",
    "export DB_ENDPOINT=mlflow-db.ctoowsu64oko.ap-southeast-1.rds.amazonaws.com\n",
    "export DB_NAME=mlflow_db\n",
    "export S3_BUCKET_NAME=mlflow-ella-artifacts-remote\n",
    "\n",
    "\n",
    "mlflow server -h 0.0.0.0 -p 5000 \\\n",
    "    --backend-store-uri=postgresql://${DB_USER}:${DB_PASSWORD}@${DB_ENDPOINT}:5432/${DB_NAME} \\\n",
    "    --default-artifact-root=s3://${S3_BUCKET_NAME}\n",
    "```\n"
   ]
  },
  {
   "cell_type": "code",
   "execution_count": 1,
   "metadata": {},
   "outputs": [],
   "source": [
    "import mlflow\n",
    "import os\n",
    "\n",
    "# os.environ[\"AWS_PROFILE\"] = \"\" # fill in with your AWS profile. More info: https://docs.aws.amazon.com/sdk-for-java/latest/developer-guide/setup.html#setup-credentials\n",
    "# used `aws configure` in local macine too\n",
    "\n",
    "TRACKING_SERVER_HOST = \"ec2-54-255-172-18.ap-southeast-1.compute.amazonaws.com\" # fill in with the public DNS of the EC2 instance\n",
    "mlflow.set_tracking_uri(f\"http://{TRACKING_SERVER_HOST}:5000\")"
   ]
  },
  {
   "cell_type": "code",
   "execution_count": 2,
   "metadata": {},
   "outputs": [
    {
     "name": "stdout",
     "output_type": "stream",
     "text": [
      "tracking URI: 'http://ec2-54-255-172-18.ap-southeast-1.compute.amazonaws.com:5000'\n"
     ]
    }
   ],
   "source": [
    "print(f\"tracking URI: '{mlflow.get_tracking_uri()}'\")"
   ]
  },
  {
   "cell_type": "code",
   "execution_count": 3,
   "metadata": {},
   "outputs": [
    {
     "data": {
      "text/plain": [
       "[<Experiment: artifact_location='s3://mlflow-ella-artifacts-remote/0', creation_time=1716716281601, experiment_id='0', last_update_time=1716716281601, lifecycle_stage='active', name='Default', tags={}>]"
      ]
     },
     "execution_count": 3,
     "metadata": {},
     "output_type": "execute_result"
    }
   ],
   "source": [
    "mlflow.search_experiments()"
   ]
  },
  {
   "cell_type": "code",
   "execution_count": 5,
   "metadata": {},
   "outputs": [
    {
     "name": "stdout",
     "output_type": "stream",
     "text": [
      "default artifacts URI: 's3://mlflow-ella-artifacts-remote/1/96b1794834b04d9aae846e5c72fad911/artifacts'\n"
     ]
    }
   ],
   "source": [
    "from sklearn.linear_model import LogisticRegression\n",
    "from sklearn.datasets import load_iris\n",
    "from sklearn.metrics import accuracy_score\n",
    "\n",
    "mlflow.set_experiment(\"scenario-3\")\n",
    "\n",
    "with mlflow.start_run():\n",
    "\n",
    "    X, y = load_iris(return_X_y=True)\n",
    "\n",
    "    params = {\"C\": 0.1, \"random_state\": 42}\n",
    "    mlflow.log_params(params)\n",
    "\n",
    "    lr = LogisticRegression(**params).fit(X, y)\n",
    "    y_pred = lr.predict(X)\n",
    "    mlflow.log_metric(\"accuracy\", accuracy_score(y, y_pred))\n",
    "\n",
    "    mlflow.sklearn.log_model(lr, artifact_path=\"models\")\n",
    "    print(f\"default artifacts URI: '{mlflow.get_artifact_uri()}'\")"
   ]
  },
  {
   "cell_type": "code",
   "execution_count": 6,
   "metadata": {},
   "outputs": [
    {
     "data": {
      "text/plain": [
       "[<Experiment: artifact_location='s3://mlflow-ella-artifacts-remote/1', creation_time=1716716355067, experiment_id='1', last_update_time=1716716355067, lifecycle_stage='active', name='scenario-3', tags={}>,\n",
       " <Experiment: artifact_location='s3://mlflow-ella-artifacts-remote/0', creation_time=1716716281601, experiment_id='0', last_update_time=1716716281601, lifecycle_stage='active', name='Default', tags={}>]"
      ]
     },
     "execution_count": 6,
     "metadata": {},
     "output_type": "execute_result"
    }
   ],
   "source": [
    "mlflow.search_experiments()"
   ]
  },
  {
   "cell_type": "markdown",
   "metadata": {},
   "source": [
    "### Interacting with the model registry"
   ]
  },
  {
   "cell_type": "code",
   "execution_count": 7,
   "metadata": {},
   "outputs": [],
   "source": [
    "from mlflow.tracking import MlflowClient\n",
    "\n",
    "\n",
    "client = MlflowClient(f\"http://{TRACKING_SERVER_HOST}:5000\")"
   ]
  },
  {
   "cell_type": "code",
   "execution_count": 9,
   "metadata": {},
   "outputs": [
    {
     "data": {
      "text/plain": [
       "[]"
      ]
     },
     "execution_count": 9,
     "metadata": {},
     "output_type": "execute_result"
    }
   ],
   "source": [
    "client.search_registered_models()"
   ]
  },
  {
   "cell_type": "code",
   "execution_count": 10,
   "metadata": {},
   "outputs": [
    {
     "name": "stderr",
     "output_type": "stream",
     "text": [
      "Successfully registered model 'iris-classifier'.\n",
      "2024/05/26 17:43:44 INFO mlflow.store.model_registry.abstract_store: Waiting up to 300 seconds for model version to finish creation. Model name: iris-classifier, version 1\n",
      "Created version '1' of model 'iris-classifier'.\n"
     ]
    },
    {
     "data": {
      "text/plain": [
       "<ModelVersion: aliases=[], creation_timestamp=1716716624048, current_stage='None', description='', last_updated_timestamp=1716716624048, name='iris-classifier', run_id='96b1794834b04d9aae846e5c72fad911', run_link='', source='s3://mlflow-ella-artifacts-remote/1/96b1794834b04d9aae846e5c72fad911/artifacts/models', status='READY', status_message='', tags={}, user_id='', version='1'>"
      ]
     },
     "execution_count": 10,
     "metadata": {},
     "output_type": "execute_result"
    }
   ],
   "source": [
    "run_id = client.search_runs(experiment_ids='1')[0].info.run_id\n",
    "mlflow.register_model(\n",
    "    model_uri=f\"runs:/{run_id}/models\",\n",
    "    name='iris-classifier'\n",
    ")"
   ]
  },
  {
   "cell_type": "code",
   "execution_count": 11,
   "metadata": {},
   "outputs": [
    {
     "data": {
      "text/plain": [
       "[<RegisteredModel: aliases={}, creation_timestamp=1716716622278, description='', last_updated_timestamp=1716716624048, latest_versions=[<ModelVersion: aliases=[], creation_timestamp=1716716624048, current_stage='None', description='', last_updated_timestamp=1716716624048, name='iris-classifier', run_id='96b1794834b04d9aae846e5c72fad911', run_link='', source='s3://mlflow-ella-artifacts-remote/1/96b1794834b04d9aae846e5c72fad911/artifacts/models', status='READY', status_message='', tags={}, user_id='', version='1'>], name='iris-classifier', tags={}>]"
      ]
     },
     "execution_count": 11,
     "metadata": {},
     "output_type": "execute_result"
    }
   ],
   "source": [
    "client.search_registered_models()"
   ]
  }
 ],
 "metadata": {
  "interpreter": {
   "hash": "0848c9d6c7d415ad6c477ff7ff8e98694d1a4aa96d0deee89244642e6b630036"
  },
  "kernelspec": {
   "display_name": "Python 3.9.12 ('exp-tracking-env')",
   "language": "python",
   "name": "python3"
  },
  "language_info": {
   "codemirror_mode": {
    "name": "ipython",
    "version": 3
   },
   "file_extension": ".py",
   "mimetype": "text/x-python",
   "name": "python",
   "nbconvert_exporter": "python",
   "pygments_lexer": "ipython3",
   "version": "3.11.9"
  },
  "orig_nbformat": 4
 },
 "nbformat": 4,
 "nbformat_minor": 2
}
