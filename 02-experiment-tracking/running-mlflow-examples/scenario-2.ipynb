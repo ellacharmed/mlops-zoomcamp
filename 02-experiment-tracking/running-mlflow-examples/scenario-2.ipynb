{
 "cells": [
  {
   "cell_type": "markdown",
   "metadata": {},
   "source": [
    "## Scenario 2: A cross-functional team with one data scientist working on an ML model\n",
    "\n",
    "\n",
    "MLflow setup:\n",
    "- tracking server: yes, local server\n",
    "- backend store: sqlite database\n",
    "- artifacts store: local filesystem\n",
    "\n",
    "The experiments can be explored locally by accessing the local tracking server.\n",
    "\n",
    "To run this example you need to launch the mlflow server locally by running the following command in your terminal:\n",
    "\n",
    "`mlflow server --backend-store-uri sqlite:///backend.db --default-artifact-root ./artifacts`"
   ]
  },
  {
   "cell_type": "code",
   "execution_count": 1,
   "metadata": {},
   "outputs": [],
   "source": [
    "import mlflow\n",
    "\n",
    "\n",
    "mlflow.set_tracking_uri(\"http://127.0.0.1:5000\")"
   ]
  },
  {
   "cell_type": "code",
   "execution_count": 2,
   "metadata": {},
   "outputs": [
    {
     "name": "stdout",
     "output_type": "stream",
     "text": [
      "tracking URI: 'http://127.0.0.1:5000'\n"
     ]
    }
   ],
   "source": [
    "print(f\"tracking URI: '{mlflow.get_tracking_uri()}'\")"
   ]
  },
  {
   "cell_type": "code",
   "execution_count": 3,
   "metadata": {},
   "outputs": [
    {
     "data": {
      "text/plain": [
       "[<Experiment: artifact_location='/workspaces/mlops-zoomcamp/02-experiment-tracking/running-mlflow-examples/artifacts/0', creation_time=1716630209592, experiment_id='0', last_update_time=1716630209592, lifecycle_stage='active', name='Default', tags={}>]"
      ]
     },
     "execution_count": 3,
     "metadata": {},
     "output_type": "execute_result"
    }
   ],
   "source": [
    "mlflow.search_experiments()"
   ]
  },
  {
   "cell_type": "code",
   "execution_count": 4,
   "metadata": {},
   "outputs": [
    {
     "name": "stderr",
     "output_type": "stream",
     "text": [
      "2024/05/25 09:45:11 INFO mlflow.tracking.fluent: Experiment with name 'scenario-2' does not exist. Creating a new experiment.\n"
     ]
    },
    {
     "name": "stdout",
     "output_type": "stream",
     "text": [
      "default artifacts URI: '/workspaces/mlops-zoomcamp/02-experiment-tracking/running-mlflow-examples/artifacts/1/6e2491bbc96340b7b0061be7354fadea/artifacts'\n"
     ]
    }
   ],
   "source": [
    "from sklearn.linear_model import LogisticRegression\n",
    "from sklearn.datasets import load_iris\n",
    "from sklearn.metrics import accuracy_score\n",
    "\n",
    "mlflow.set_experiment(\"scenario-2\")\n",
    "\n",
    "with mlflow.start_run():\n",
    "\n",
    "    X, y = load_iris(return_X_y=True)\n",
    "\n",
    "    params = {\"C\": 0.1, \"random_state\": 42}\n",
    "    mlflow.log_params(params)\n",
    "\n",
    "    lr = LogisticRegression(**params).fit(X, y)\n",
    "    y_pred = lr.predict(X)\n",
    "    mlflow.log_metric(\"accuracy\", accuracy_score(y, y_pred))\n",
    "\n",
    "    mlflow.sklearn.log_model(lr, artifact_path=\"models\")\n",
    "    print(f\"default artifacts URI: '{mlflow.get_artifact_uri()}'\")"
   ]
  },
  {
   "cell_type": "code",
   "execution_count": 5,
   "metadata": {},
   "outputs": [
    {
     "data": {
      "text/plain": [
       "[<Experiment: artifact_location='/workspaces/mlops-zoomcamp/02-experiment-tracking/running-mlflow-examples/artifacts/1', creation_time=1716630311469, experiment_id='1', last_update_time=1716630311469, lifecycle_stage='active', name='scenario-2', tags={}>,\n",
       " <Experiment: artifact_location='/workspaces/mlops-zoomcamp/02-experiment-tracking/running-mlflow-examples/artifacts/0', creation_time=1716630209592, experiment_id='0', last_update_time=1716630209592, lifecycle_stage='active', name='Default', tags={}>]"
      ]
     },
     "execution_count": 5,
     "metadata": {},
     "output_type": "execute_result"
    }
   ],
   "source": [
    "mlflow.search_experiments()"
   ]
  },
  {
   "cell_type": "markdown",
   "metadata": {},
   "source": [
    "### Interacting with the model registry"
   ]
  },
  {
   "cell_type": "code",
   "execution_count": 6,
   "metadata": {},
   "outputs": [],
   "source": [
    "from mlflow.tracking import MlflowClient\n",
    "\n",
    "\n",
    "client = MlflowClient(\"http://127.0.0.1:5000\")"
   ]
  },
  {
   "cell_type": "code",
   "execution_count": 54,
   "metadata": {},
   "outputs": [
    {
     "name": "stdout",
     "output_type": "stream",
     "text": [
      "[<RegisteredModel: aliases={}, creation_timestamp=1716630728413, description='', last_updated_timestamp=1716632575102, latest_versions=[<ModelVersion: aliases=[], creation_timestamp=1716632575102, current_stage='None', description='', last_updated_timestamp=1716632575102, name='iris-classifier', run_id='6e2491bbc96340b7b0061be7354fadea', run_link='', source='/workspaces/mlops-zoomcamp/02-experiment-tracking/running-mlflow-examples/artifacts/1/6e2491bbc96340b7b0061be7354fadea/artifacts/models', status='READY', status_message='', tags={}, user_id='', version='1'>], name='iris-classifier', tags={}>]\n"
     ]
    }
   ],
   "source": [
    "client.search_registered_models()"
   ]
  },
  {
   "cell_type": "code",
   "execution_count": 60,
   "metadata": {},
   "outputs": [
    {
     "name": "stdout",
     "output_type": "stream",
     "text": [
      "[<Run: data=<RunData: metrics={'accuracy': 0.96}, params={'C': '0.1', 'random_state': '42'}, tags={'mlflow.log-model.history': '[{\"run_id\": \"6e2491bbc96340b7b0061be7354fadea\", '\n",
      "                             '\"artifact_path\": \"models\", \"utc_time_created\": '\n",
      "                             '\"2024-05-25 09:45:11.659734\", \"flavors\": '\n",
      "                             '{\"python_function\": {\"model_path\": \"model.pkl\", '\n",
      "                             '\"predict_fn\": \"predict\", \"loader_module\": '\n",
      "                             '\"mlflow.sklearn\", \"python_version\": \"3.11.9\", '\n",
      "                             '\"env\": {\"conda\": \"conda.yaml\", \"virtualenv\": '\n",
      "                             '\"python_env.yaml\"}}, \"sklearn\": '\n",
      "                             '{\"pickled_model\": \"model.pkl\", '\n",
      "                             '\"sklearn_version\": \"1.4.2\", '\n",
      "                             '\"serialization_format\": \"cloudpickle\", \"code\": '\n",
      "                             'null}}, \"model_uuid\": '\n",
      "                             '\"26a117fcb35b4426b1a8e3e341c6db48\", '\n",
      "                             '\"mlflow_version\": \"2.13.0\", \"model_size_bytes\": '\n",
      "                             '829}]',\n",
      " 'mlflow.runName': 'able-shoat-873',\n",
      " 'mlflow.source.name': '/workspaces/mlops-zoomcamp/.micromamba/envs/mlops/lib/python3.11/site-packages/ipykernel_launcher.py',\n",
      " 'mlflow.source.type': 'LOCAL',\n",
      " 'mlflow.user': 'codespace'}>, info=<RunInfo: artifact_uri='/workspaces/mlops-zoomcamp/02-experiment-tracking/running-mlflow-examples/artifacts/1/6e2491bbc96340b7b0061be7354fadea/artifacts', end_time=1716630314138, experiment_id='1', lifecycle_stage='active', run_id='6e2491bbc96340b7b0061be7354fadea', run_name='able-shoat-873', run_uuid='6e2491bbc96340b7b0061be7354fadea', start_time=1716630311543, status='FINISHED', user_id='codespace'>, inputs=<RunInputs: dataset_inputs=[]>>]\n"
     ]
    }
   ],
   "source": [
    "import pprint\n",
    "import pandas as pd\n",
    "\n",
    "pprint.pp(client.search_runs(experiment_ids='1'))"
   ]
  },
  {
   "cell_type": "code",
   "execution_count": 64,
   "metadata": {},
   "outputs": [
    {
     "name": "stdout",
     "output_type": "stream",
     "text": [
      "{   'info': {   'artifact_uri': '/workspaces/mlops-zoomcamp/02-experiment-tracking/running-mlflow-examples/artifacts/1/6e2491bbc96340b7b0061be7354fadea/artifacts',\n",
      "                'end_time': 1716630314138,\n",
      "                'experiment_id': '1',\n",
      "                'lifecycle_stage': 'active',\n",
      "                'run_id': '6e2491bbc96340b7b0061be7354fadea',\n",
      "                'run_name': 'able-shoat-873',\n",
      "                'run_uuid': '6e2491bbc96340b7b0061be7354fadea',\n",
      "                'start_time': 1716630311543,\n",
      "                'status': 'FINISHED',\n",
      "                'user_id': 'codespace'},\n",
      "    'data': {   'metrics': {'accuracy': 0.96},\n",
      "                'params': {'C': '0.1', 'random_state': '42'},\n",
      "                'tags': {   'mlflow.user': 'codespace',\n",
      "                            'mlflow.source.name': '/workspaces/mlops-zoomcamp/.micromamba/envs/mlops/lib/python3.11/site-packages/ipykernel_launcher.py',\n",
      "                            'mlflow.source.type': 'LOCAL',\n",
      "                            'mlflow.runName': 'able-shoat-873',\n",
      "                            'mlflow.log-model.history': '[{\"run_id\": '\n",
      "                                                        '\"6e2491bbc96340b7b0061be7354fadea\", '\n",
      "                                                        '\"artifact_path\": '\n",
      "                                                        '\"models\", '\n",
      "                                                        '\"utc_time_created\": '\n",
      "                                                        '\"2024-05-25 '\n",
      "                                                        '09:45:11.659734\", '\n",
      "                                                        '\"flavors\": '\n",
      "                                                        '{\"python_function\": '\n",
      "                                                        '{\"model_path\": '\n",
      "                                                        '\"model.pkl\", '\n",
      "                                                        '\"predict_fn\": '\n",
      "                                                        '\"predict\", '\n",
      "                                                        '\"loader_module\": '\n",
      "                                                        '\"mlflow.sklearn\", '\n",
      "                                                        '\"python_version\": '\n",
      "                                                        '\"3.11.9\", \"env\": '\n",
      "                                                        '{\"conda\": '\n",
      "                                                        '\"conda.yaml\", '\n",
      "                                                        '\"virtualenv\": '\n",
      "                                                        '\"python_env.yaml\"}}, '\n",
      "                                                        '\"sklearn\": '\n",
      "                                                        '{\"pickled_model\": '\n",
      "                                                        '\"model.pkl\", '\n",
      "                                                        '\"sklearn_version\": '\n",
      "                                                        '\"1.4.2\", '\n",
      "                                                        '\"serialization_format\": '\n",
      "                                                        '\"cloudpickle\", '\n",
      "                                                        '\"code\": null}}, '\n",
      "                                                        '\"model_uuid\": '\n",
      "                                                        '\"26a117fcb35b4426b1a8e3e341c6db48\", '\n",
      "                                                        '\"mlflow_version\": '\n",
      "                                                        '\"2.13.0\", '\n",
      "                                                        '\"model_size_bytes\": '\n",
      "                                                        '829}]'}},\n",
      "    'inputs': {'dataset_inputs': []}}\n"
     ]
    }
   ],
   "source": [
    "pprint.pp(client.search_runs(experiment_ids='1')[0].to_dictionary(), indent=4)"
   ]
  },
  {
   "cell_type": "code",
   "execution_count": 61,
   "metadata": {},
   "outputs": [
    {
     "data": {
      "text/html": [
       "<div>\n",
       "<style scoped>\n",
       "    .dataframe tbody tr th:only-of-type {\n",
       "        vertical-align: middle;\n",
       "    }\n",
       "\n",
       "    .dataframe tbody tr th {\n",
       "        vertical-align: top;\n",
       "    }\n",
       "\n",
       "    .dataframe thead th {\n",
       "        text-align: right;\n",
       "    }\n",
       "</style>\n",
       "<table border=\"1\" class=\"dataframe\">\n",
       "  <thead>\n",
       "    <tr style=\"text-align: right;\">\n",
       "      <th></th>\n",
       "      <th>0</th>\n",
       "      <th>1</th>\n",
       "    </tr>\n",
       "  </thead>\n",
       "  <tbody>\n",
       "    <tr>\n",
       "      <th>0</th>\n",
       "      <td>artifact_uri</td>\n",
       "      <td>/workspaces/mlops-zoomcamp/02-experiment-track...</td>\n",
       "    </tr>\n",
       "    <tr>\n",
       "      <th>1</th>\n",
       "      <td>end_time</td>\n",
       "      <td>1716630314138</td>\n",
       "    </tr>\n",
       "    <tr>\n",
       "      <th>2</th>\n",
       "      <td>experiment_id</td>\n",
       "      <td>1</td>\n",
       "    </tr>\n",
       "    <tr>\n",
       "      <th>3</th>\n",
       "      <td>lifecycle_stage</td>\n",
       "      <td>active</td>\n",
       "    </tr>\n",
       "    <tr>\n",
       "      <th>4</th>\n",
       "      <td>run_id</td>\n",
       "      <td>6e2491bbc96340b7b0061be7354fadea</td>\n",
       "    </tr>\n",
       "    <tr>\n",
       "      <th>5</th>\n",
       "      <td>run_name</td>\n",
       "      <td>able-shoat-873</td>\n",
       "    </tr>\n",
       "    <tr>\n",
       "      <th>6</th>\n",
       "      <td>run_uuid</td>\n",
       "      <td>6e2491bbc96340b7b0061be7354fadea</td>\n",
       "    </tr>\n",
       "    <tr>\n",
       "      <th>7</th>\n",
       "      <td>start_time</td>\n",
       "      <td>1716630311543</td>\n",
       "    </tr>\n",
       "    <tr>\n",
       "      <th>8</th>\n",
       "      <td>status</td>\n",
       "      <td>FINISHED</td>\n",
       "    </tr>\n",
       "    <tr>\n",
       "      <th>9</th>\n",
       "      <td>user_id</td>\n",
       "      <td>codespace</td>\n",
       "    </tr>\n",
       "  </tbody>\n",
       "</table>\n",
       "</div>"
      ],
      "text/plain": [
       "                 0                                                  1\n",
       "0     artifact_uri  /workspaces/mlops-zoomcamp/02-experiment-track...\n",
       "1         end_time                                      1716630314138\n",
       "2    experiment_id                                                  1\n",
       "3  lifecycle_stage                                             active\n",
       "4           run_id                   6e2491bbc96340b7b0061be7354fadea\n",
       "5         run_name                                     able-shoat-873\n",
       "6         run_uuid                   6e2491bbc96340b7b0061be7354fadea\n",
       "7       start_time                                      1716630311543\n",
       "8           status                                           FINISHED\n",
       "9          user_id                                          codespace"
      ]
     },
     "execution_count": 61,
     "metadata": {},
     "output_type": "execute_result"
    }
   ],
   "source": [
    "pd.DataFrame(client.search_runs(experiment_ids='1')[0].info)"
   ]
  },
  {
   "cell_type": "code",
   "execution_count": 50,
   "metadata": {},
   "outputs": [
    {
     "name": "stderr",
     "output_type": "stream",
     "text": [
      "Registered model 'iris-classifier' already exists. Creating a new version of this model...\n",
      "2024/05/25 10:22:55 INFO mlflow.store.model_registry.abstract_store: Waiting up to 300 seconds for model version to finish creation. Model name: iris-classifier, version 1\n",
      "Created version '1' of model 'iris-classifier'.\n"
     ]
    },
    {
     "data": {
      "text/plain": [
       "<ModelVersion: aliases=[], creation_timestamp=1716632575102, current_stage='None', description='', last_updated_timestamp=1716632575102, name='iris-classifier', run_id='6e2491bbc96340b7b0061be7354fadea', run_link='', source='/workspaces/mlops-zoomcamp/02-experiment-tracking/running-mlflow-examples/artifacts/1/6e2491bbc96340b7b0061be7354fadea/artifacts/models', status='READY', status_message='', tags={}, user_id='', version='1'>"
      ]
     },
     "execution_count": 50,
     "metadata": {},
     "output_type": "execute_result"
    }
   ],
   "source": [
    "run_id = client.search_runs(experiment_ids='1')[0].info.run_id\n",
    "mlflow.register_model(\n",
    "    model_uri=f\"runs:/{run_id}/models\",\n",
    "    name='iris-classifier'\n",
    ")"
   ]
  },
  {
   "cell_type": "code",
   "execution_count": null,
   "metadata": {},
   "outputs": [],
   "source": []
  }
 ],
 "metadata": {
  "interpreter": {
   "hash": "0848c9d6c7d415ad6c477ff7ff8e98694d1a4aa96d0deee89244642e6b630036"
  },
  "kernelspec": {
   "display_name": "Python 3.9.12 ('exp-tracking-env')",
   "language": "python",
   "name": "python3"
  },
  "language_info": {
   "codemirror_mode": {
    "name": "ipython",
    "version": 3
   },
   "file_extension": ".py",
   "mimetype": "text/x-python",
   "name": "python",
   "nbconvert_exporter": "python",
   "pygments_lexer": "ipython3",
   "version": "3.11.9"
  },
  "orig_nbformat": 4
 },
 "nbformat": 4,
 "nbformat_minor": 2
}
