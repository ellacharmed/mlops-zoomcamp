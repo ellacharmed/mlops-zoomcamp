{
 "cells": [
  {
   "cell_type": "markdown",
   "metadata": {},
   "source": [
    "# Homework 05\n",
    "\n",
    "The goal of this homework is to familiarize users with monitoring for ML batch services, using PostgreSQL database to store metrics and Grafana to visualize them.\n",
    "\n",
    "## Import packages"
   ]
  },
  {
   "cell_type": "code",
   "execution_count": 1,
   "metadata": {},
   "outputs": [],
   "source": [
    "import requests\n",
    "import datetime\n",
    "import pandas as pd\n",
    "\n",
    "from evidently import ColumnMapping\n",
    "from evidently.report import Report\n",
    "from evidently.metrics.base_metric import generate_column_metrics\n",
    "from evidently.metrics import *\n",
    "\n",
    "from joblib import load, dump\n",
    "from tqdm import tqdm\n",
    "from pprint import pprint\n",
    "\n",
    "from sklearn.linear_model import LinearRegression\n",
    "from sklearn.metrics import mean_absolute_error, mean_absolute_percentage_error"
   ]
  },
  {
   "cell_type": "markdown",
   "metadata": {},
   "source": [
    "## Q1. Prepare the dataset\n",
    "\n",
    "Start with `baseline_model_nyc_taxi_data.ipynb`. Download the March 2024 Green Taxi data. We will use this data to simulate a production usage of a taxi trip duration prediction service.\n",
    "\n",
    "What is the shape of the downloaded data? How many rows are there?\n",
    "\n",
    "* 72044\n",
    "* 78537 \n",
    "* **57457**\n",
    "* 54396"
   ]
  },
  {
   "cell_type": "code",
   "execution_count": 2,
   "metadata": {},
   "outputs": [
    {
     "name": "stdout",
     "output_type": "stream",
     "text": [
      "Download files:\n"
     ]
    },
    {
     "name": "stderr",
     "output_type": "stream",
     "text": [
      "green_tripdata_2024-03.parquet: 100%|██████████| 1372372/1372372 [00:03<00:00, 430704.26it/s, save to ./data/green_tripdata_2024-03.parquet]\n"
     ]
    }
   ],
   "source": [
    "# files = [('green_tripdata_2024-03.parquet', './data')]\n",
    "\n",
    "# print(\"Download files:\")\n",
    "# for file, path in files:\n",
    "#     url=f\"https://d37ci6vzurychx.cloudfront.net/trip-data/{file}\"\n",
    "#     resp=requests.get(url, stream=True)\n",
    "#     save_path=f\"{path}/{file}\"\n",
    "#     with open(save_path, \"wb\") as handle:\n",
    "#         for data in tqdm(resp.iter_content(),\n",
    "#                         desc=f\"{file}\",\n",
    "#                         postfix=f\"save to {save_path}\",\n",
    "#                         total=int(resp.headers[\"Content-Length\"])):\n",
    "#             handle.write(data)"
   ]
  },
  {
   "cell_type": "code",
   "execution_count": 3,
   "metadata": {},
   "outputs": [
    {
     "data": {
      "text/plain": [
       "(57457, 20)"
      ]
     },
     "execution_count": 3,
     "metadata": {},
     "output_type": "execute_result"
    }
   ],
   "source": [
    "df = pd.read_parquet(f'./data/green_tripdata_2024-03.parquet')\n",
    "df.shape"
   ]
  },
  {
   "cell_type": "markdown",
   "metadata": {},
   "source": [
    "### A1: `57457`"
   ]
  },
  {
   "cell_type": "markdown",
   "metadata": {},
   "source": [
    "## Q2. Metric\n",
    "\n",
    "Let's expand the number of data quality metrics we’d like to monitor! Please add one metric of your choice and a quantile value for the `\"fare_amount\"` column (`quantile=0.5`).\n",
    "\n",
    "Hint: explore evidently metric `ColumnQuantileMetric` (from `evidently.metrics import ColumnQuantileMetric`) \n",
    "\n",
    "What metric did you choose?"
   ]
  },
  {
   "cell_type": "code",
   "execution_count": 4,
   "metadata": {},
   "outputs": [],
   "source": [
    "# data labeling\n",
    "target = \"duration_min\"\n",
    "date_features = [\"lpep_pickup_datetime\", \"lpep_dropoff_datetime\"]\n",
    "num_features = [\"passenger_count\", \"trip_distance\", \"fare_amount\", \"total_amount\"]\n",
    "cat_features = [\"PULocationID\", \"DOLocationID\"]"
   ]
  },
  {
   "cell_type": "code",
   "execution_count": 5,
   "metadata": {},
   "outputs": [],
   "source": [
    "df = df[date_features + num_features + cat_features]"
   ]
  },
  {
   "cell_type": "code",
   "execution_count": 6,
   "metadata": {},
   "outputs": [
    {
     "name": "stdout",
     "output_type": "stream",
     "text": [
      "<class 'pandas.core.frame.DataFrame'>\n",
      "RangeIndex: 57457 entries, 0 to 57456\n",
      "Data columns (total 8 columns):\n",
      " #   Column                 Non-Null Count  Dtype         \n",
      "---  ------                 --------------  -----         \n",
      " 0   lpep_pickup_datetime   57457 non-null  datetime64[us]\n",
      " 1   lpep_dropoff_datetime  57457 non-null  datetime64[us]\n",
      " 2   passenger_count        55360 non-null  float64       \n",
      " 3   trip_distance          57457 non-null  float64       \n",
      " 4   fare_amount            57457 non-null  float64       \n",
      " 5   total_amount           57457 non-null  float64       \n",
      " 6   PULocationID           57457 non-null  int32         \n",
      " 7   DOLocationID           57457 non-null  int32         \n",
      "dtypes: datetime64[us](2), float64(4), int32(2)\n",
      "memory usage: 3.1 MB\n"
     ]
    }
   ],
   "source": [
    "df.info()"
   ]
  },
  {
   "cell_type": "markdown",
   "metadata": {},
   "source": [
    "### check date range for pickup"
   ]
  },
  {
   "cell_type": "code",
   "execution_count": 11,
   "metadata": {},
   "outputs": [
    {
     "name": "stdout",
     "output_type": "stream",
     "text": [
      "min_date: 2024-03-01 00:00:57\n",
      "max_date: 2024-03-31 23:54:09\n"
     ]
    }
   ],
   "source": [
    "print(f\"min_date: {df.lpep_pickup_datetime.min()}\")\n",
    "print(f\"max_date: {df.lpep_pickup_datetime.max()}\")"
   ]
  },
  {
   "cell_type": "markdown",
   "metadata": {},
   "source": [
    "### check date range for dropoff"
   ]
  },
  {
   "cell_type": "code",
   "execution_count": 12,
   "metadata": {},
   "outputs": [
    {
     "name": "stdout",
     "output_type": "stream",
     "text": [
      "min_date: 2024-03-01 00:08:23\n",
      "max_date: 2024-04-01 16:11:00\n"
     ]
    }
   ],
   "source": [
    "print(f\"min_date: {df.lpep_dropoff_datetime.min()}\")\n",
    "print(f\"max_date: {df.lpep_dropoff_datetime.max()}\")"
   ]
  },
  {
   "cell_type": "code",
   "execution_count": 10,
   "metadata": {},
   "outputs": [],
   "source": [
    "df = df.loc[(df.lpep_pickup_datetime >= datetime.datetime(2024,3,1,0,0)) & \n",
    "                               (df.lpep_pickup_datetime < datetime.datetime(2024,4,1,0,0))]"
   ]
  },
  {
   "cell_type": "code",
   "execution_count": 17,
   "metadata": {},
   "outputs": [
    {
     "data": {
      "image/png": "[encoded data removed]",
      "text/plain": [
       "<Figure size 640x480 with 1 Axes>"
      ]
     },
     "metadata": {},
     "output_type": "display_data"
    }
   ],
   "source": [
    "df.fare_amount.hist();"
   ]
  },
  {
   "cell_type": "code",
   "execution_count": 23,
   "metadata": {},
   "outputs": [
    {
     "data": {
      "text/plain": [
       "count    57447.000000\n",
       "mean        17.312937\n",
       "std         14.956774\n",
       "min       -295.080000\n",
       "25%          9.300000\n",
       "50%         13.500000\n",
       "75%         19.800000\n",
       "max        841.600000\n",
       "Name: fare_amount, dtype: float64"
      ]
     },
     "execution_count": 23,
     "metadata": {},
     "output_type": "execute_result"
    }
   ],
   "source": [
    "df.fare_amount.describe()"
   ]
  },
  {
   "cell_type": "markdown",
   "metadata": {},
   "source": [
    "That's a very long tail! Max fare_amount is over $840. And what does it mean some records have *negative* fare_amount?"
   ]
  },
  {
   "cell_type": "code",
   "execution_count": 20,
   "metadata": {},
   "outputs": [],
   "source": [
    "column_mapping = ColumnMapping(\n",
    "    target=None,\n",
    "    prediction='prediction',\n",
    "    numerical_features=num_features,\n",
    "    categorical_features=cat_features\n",
    ")"
   ]
  },
  {
   "cell_type": "code",
   "execution_count": 21,
   "metadata": {},
   "outputs": [],
   "source": [
    "report = Report(metrics=[\n",
    "    ColumnSummaryMetric(column_name='fare_amount'),\n",
    "    ColumnQuantileMetric(column_name='fare_amount', quantile=0.5),\n",
    "])"
   ]
  },
  {
   "cell_type": "markdown",
   "metadata": {},
   "source": [
    "### A2: `ColumnSummaryMetric`"
   ]
  },
  {
   "cell_type": "markdown",
   "metadata": {},
   "source": [
    "## Q3. Monitoring\n",
    "\n",
    "Let’s start monitoring. Run expanded monitoring for a new batch of data (March 2024). \n",
    "\n",
    "What is the maximum value of metric `quantile = 0.5` on the `\"fare_amount\"` column during March 2024 (calculated daily)?\n",
    "\n",
    "* 10\n",
    "* 12.5\n",
    "* **14.2**\n",
    "* 14.8"
   ]
  },
  {
   "cell_type": "code",
   "execution_count": 59,
   "metadata": {},
   "outputs": [],
   "source": [
    "quantile_df = pd.DataFrame()\n",
    "\n",
    "def generate_daily_reports(df, start_date, end_date):\n",
    "    date_range = pd.date_range(start=start_date, end=end_date)\n",
    "\n",
    "    for single_date in date_range:\n",
    "        day_data = df[df['lpep_pickup_datetime'].dt.date == single_date.date()]\n",
    "        # display(day_data)\n",
    "\n",
    "        if day_data.empty:\n",
    "            continue\n",
    "        \n",
    "        # Generate the Evidently report for the day\n",
    "        daily_report = Report(\n",
    "            metrics=[\n",
    "                ColumnSummaryMetric(column_name='fare_amount'),\n",
    "                ColumnQuantileMetric(column_name=\"fare_amount\", quantile=0.5)\n",
    "            ],\n",
    "            timestamp=single_date\n",
    "        )\n",
    "        \n",
    "        daily_report.run(reference_data=None, current_data=day_data)\n",
    "        # print()\n",
    "        # Extract the quantile result\n",
    "        quantile_result = daily_report.as_dict()\n",
    "\n",
    "        print(\n",
    "            single_date.date(), \n",
    "            quantile_result['metrics'][0]['result']['current_characteristics']['mean'],\n",
    "            quantile_result['metrics'][1]['result']['current']['value']\n",
    "        )\n",
    "\n",
    "    # return pd.concat([quantile_df, daily], axis =0).reset_index()"
   ]
  },
  {
   "cell_type": "code",
   "execution_count": 60,
   "metadata": {},
   "outputs": [
    {
     "name": "stdout",
     "output_type": "stream",
     "text": [
      "2024-03-01 16.85 13.5\n",
      "2024-03-02 17.58 13.5\n",
      "2024-03-03 18.56 14.2\n",
      "2024-03-04 16.4 12.8\n",
      "2024-03-05 17.22 13.5\n",
      "2024-03-06 16.18 12.8\n",
      "2024-03-07 17.85 13.5\n",
      "2024-03-08 17.05 13.5\n",
      "2024-03-09 17.45 13.5\n",
      "2024-03-10 18.08 14.2\n",
      "2024-03-11 16.51 12.8\n",
      "2024-03-12 17.27 13.5\n",
      "2024-03-13 17.01 13.5\n",
      "2024-03-14 18.0 14.2\n",
      "2024-03-15 17.41 13.5\n",
      "2024-03-16 18.23 14.2\n",
      "2024-03-17 17.99 13.5\n",
      "2024-03-18 16.73 13.5\n",
      "2024-03-19 17.41 13.5\n",
      "2024-03-20 16.58 12.8\n",
      "2024-03-21 17.01 13.5\n",
      "2024-03-22 17.44 13.5\n",
      "2024-03-23 17.0 12.8\n",
      "2024-03-24 18.59 14.2\n",
      "2024-03-25 17.28 13.5\n",
      "2024-03-26 17.41 13.5\n",
      "2024-03-27 16.91 13.5\n",
      "2024-03-28 16.94 13.5\n",
      "2024-03-29 17.24 13.5\n",
      "2024-03-30 18.26 14.2\n",
      "2024-03-31 17.97 13.5\n"
     ]
    }
   ],
   "source": [
    "# Define the date range for the reports\n",
    "start_date = df['lpep_pickup_datetime'].min().date()\n",
    "end_date = df['lpep_pickup_datetime'].max().date()\n",
    "\n",
    "generate_daily_reports(df, start_date, end_date)"
   ]
  },
  {
   "cell_type": "markdown",
   "metadata": {},
   "source": [
    "### A3: `14.2`\n",
    "\n",
    "## Q4. Dashboard\n",
    "\n",
    "\n",
    "Finally, let’s add panels with new added metrics to the dashboard. After we customize the  dashboard let's save a dashboard config, so that we can access it later. Hint: click on “Save dashboard” to access JSON configuration of the dashboard. This configuration should be saved locally.\n",
    "\n",
    "Where to place a dashboard config file?\n",
    "\n",
    "* `project_folder` (05-monitoring)\n",
    "* **`project_folder/config`  (05-monitoring/config)**\n",
    "* `project_folder/dashboards`  (05-monitoring/dashboards)\n",
    "* `project_folder/data`  (05-monitoring/data)\n",
    "\n",
    "### A4: `'project_folder/config'  (05-monitoring/config)`"
   ]
  },
  {
   "cell_type": "markdown",
   "metadata": {},
   "source": [
    "### below section still not working"
   ]
  },
  {
   "cell_type": "markdown",
   "metadata": {},
   "source": [
    "### create dashboard"
   ]
  },
  {
   "cell_type": "code",
   "execution_count": 48,
   "metadata": {},
   "outputs": [],
   "source": [
    "from evidently.metric_preset import DataDriftPreset, DataQualityPreset\n",
    "\n",
    "from evidently.ui.workspace import Workspace\n",
    "from evidently.ui.dashboards import DashboardPanelCounter, DashboardPanelPlot, CounterAgg, PanelValue, PlotType, ReportFilter\n",
    "from evidently.renderers.html_widgets import WidgetSize"
   ]
  },
  {
   "cell_type": "markdown",
   "metadata": {},
   "source": [
    "### create workspace"
   ]
  },
  {
   "cell_type": "code",
   "execution_count": 49,
   "metadata": {},
   "outputs": [],
   "source": [
    "ws = Workspace(\"workspace\")"
   ]
  },
  {
   "cell_type": "markdown",
   "metadata": {},
   "source": [
    "### create project"
   ]
  },
  {
   "cell_type": "code",
   "execution_count": 53,
   "metadata": {},
   "outputs": [
    {
     "data": {
      "text/plain": [
       "Project(id=UUID('8b2a48ad-4809-4d00-b54e-53a80f61f766'), name='NYC Taxi Homework 5', description='Homework 5 project desc', dashboard=DashboardConfig(name='NYC Taxi Homework 5', panels=[], tabs=[], tab_id_to_panel_ids={}), team_id=None, date_from=None, date_to=None, created_at=datetime.datetime(2024, 6, 25, 11, 11, 10, 195113))"
      ]
     },
     "execution_count": 53,
     "metadata": {},
     "output_type": "execute_result"
    }
   ],
   "source": [
    "project = ws.create_project(\"NYC Taxi Homework 5\")\n",
    "project.description = \"Homework 5 project desc\"\n",
    "project.save()"
   ]
  },
  {
   "cell_type": "markdown",
   "metadata": {},
   "source": [
    "### configure dashboard panels"
   ]
  },
  {
   "cell_type": "code",
   "execution_count": 51,
   "metadata": {},
   "outputs": [
    {
     "data": {
      "text/plain": [
       "Project(id=UUID('2ac44a1e-bedd-4d4c-b155-ddf56dc8a7af'), name='NYC Taxi Data Quality Project', description='My project description', dashboard=DashboardConfig(name='NYC Taxi Data Quality Project', panels=[DashboardPanelCounter(type='evidently.ui.dashboards.reports.DashboardPanelCounter', id=UUID('316d8c23-5a5f-435b-b234-a46658ca9c13'), title='NYC taxi data dashboard', filter=ReportFilter(metadata_values={}, tag_values=[], include_test_suites=False), size=<WidgetSize.FULL: 2>, agg=<CounterAgg.NONE: 'none'>, value=None, text=None), DashboardPanelPlot(type='evidently.ui.dashboards.reports.DashboardPanelPlot', id=UUID('456f3cc1-d756-48da-97ab-772f28b35e61'), title='Inference Count', filter=ReportFilter(metadata_values={}, tag_values=[], include_test_suites=False), size=<WidgetSize.HALF: 1>, values=[PanelValue(field_path='current.number_of_rows', metric_id='DatasetSummaryMetric', metric_fingerprint=None, metric_args={}, legend='count')], plot_type=<PlotType.BAR: 'bar'>), DashboardPanelPlot(type='evidently.ui.dashboards.reports.DashboardPanelPlot', id=UUID('eafd0130-5e1d-44f0-8424-2aa03d66715f'), title='Number of Missing Values', filter=ReportFilter(metadata_values={}, tag_values=[], include_test_suites=False), size=<WidgetSize.HALF: 1>, values=[PanelValue(field_path='current.number_of_missing_values', metric_id='DatasetSummaryMetric', metric_fingerprint=None, metric_args={}, legend='count')], plot_type=<PlotType.LINE: 'line'>)], tabs=[], tab_id_to_panel_ids={}), team_id=None, date_from=None, date_to=None, created_at=datetime.datetime(2024, 6, 25, 11, 9, 54, 835202))"
      ]
     },
     "execution_count": 51,
     "metadata": {},
     "output_type": "execute_result"
    }
   ],
   "source": [
    "#configure the dashboard\n",
    "project.dashboard.add_panel(\n",
    "    DashboardPanelCounter(\n",
    "        filter=ReportFilter(metadata_values={}, tag_values=[]),\n",
    "        agg=CounterAgg.NONE,\n",
    "        title=\"NYC taxi homework 5 dashboard\"\n",
    "    )\n",
    ")\n",
    "\n",
    "project.dashboard.add_panel(\n",
    "    DashboardPanelPlot(\n",
    "        filter=ReportFilter(metadata_values={}, tag_values=[]),\n",
    "        title=\"Inference Count\",\n",
    "        values=[\n",
    "            PanelValue(\n",
    "                metric_id=\"DatasetSummaryMetric\",\n",
    "                field_path=\"current.number_of_rows\",\n",
    "                legend=\"count\"\n",
    "            ),\n",
    "        ],\n",
    "        plot_type=PlotType.BAR,\n",
    "        size=WidgetSize.HALF,\n",
    "    ),\n",
    ")\n",
    "\n",
    "project.dashboard.add_panel(\n",
    "    DashboardPanelPlot(\n",
    "        filter=ReportFilter(metadata_values={}, tag_values=[]),\n",
    "        title=\"Number of Missing Values\",\n",
    "        values=[\n",
    "            PanelValue(\n",
    "                metric_id=\"DatasetSummaryMetric\",\n",
    "                field_path=\"current.number_of_missing_values\",\n",
    "                legend=\"count\"\n",
    "            ),\n",
    "        ],\n",
    "        plot_type=PlotType.LINE,\n",
    "        size=WidgetSize.HALF,\n",
    "    ),\n",
    ")\n",
    "\n",
    "project.save()"
   ]
  }
 ],
 "metadata": {
  "kernelspec": {
   "display_name": "Python 3",
   "language": "python",
   "name": "python3"
  },
  "language_info": {
   "codemirror_mode": {
    "name": "ipython",
    "version": 3
   },
   "file_extension": ".py",
   "mimetype": "text/x-python",
   "name": "python",
   "nbconvert_exporter": "python",
   "pygments_lexer": "ipython3",
   "version": "3.11.9"
  }
 },
 "nbformat": 4,
 "nbformat_minor": 2
}
