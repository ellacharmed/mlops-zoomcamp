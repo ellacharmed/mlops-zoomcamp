{
 "cells": [
  {
   "cell_type": "markdown",
   "metadata": {},
   "source": [
    "# Homework-03\n",
    "\n",
    "The goal of this homework is to train a simple model for predicting the duration of a ride, but use Mage for it.\n",
    "\n",
    "We'll use [the same NYC taxi dataset](https://www1.nyc.gov/site/tlc/about/tlc-trip-record-data.page), the **Yellow** taxi data for 2023. \n"
   ]
  },
  {
   "cell_type": "markdown",
   "metadata": {},
   "source": [
    "## Question 1. Run Mage\n",
    "\n",
    "First, let's run Mage with Docker Compose. Follow the quick start guideline. \n",
    "\n",
    "What's the version of Mage we run? \n",
    "\n",
    "(You can see it in the UI)\n",
    "\n",
    "### Answer 1: ``"
   ]
  },
  {
   "cell_type": "markdown",
   "metadata": {},
   "source": [
    "## Question 2. Creating a project\n",
    "\n",
    "Now let's create a new project. We can call it \"homework_03\", for example.\n",
    "\n",
    "How many lines are in the created `metadata.yaml` file? \n",
    "\n",
    "- 35\n",
    "- 45\n",
    "- 55\n",
    "- 65\n",
    "\n",
    "### Answer 2: ``"
   ]
  },
  {
   "cell_type": "markdown",
   "metadata": {},
   "source": [
    "## Question 3. Creating a pipeline\n",
    "\n",
    "Let's create an ingestion code block.\n",
    "\n",
    "In this block, we will read the March 2023 Yellow taxi trips data.\n",
    "\n",
    "How many records did we load? \n",
    "\n",
    "- 3003766\n",
    "- 3203766\n",
    "- 3403766\n",
    "- 3603766\n",
    "\n",
    "### Answer 3: ``"
   ]
  },
  {
   "cell_type": "markdown",
   "metadata": {},
   "source": [
    "## Question 4. Data preparation\n",
    "\n",
    "\n",
    "Let's use the same logic for preparing the data we used previously. We will need to create a tranformer code block and put this code there.\n",
    "\n",
    "This is what we used (adjusted for yellow dataset):\n",
    "\n",
    "```python\n",
    "def read_dataframe(filename):\n",
    "    df = pd.read_parquet(filename)\n",
    "\n",
    "    df['duration'] = df.tpep_dropoff_datetime - df.tpep_pickup_datetime\n",
    "    df.duration = df.duration.dt.total_seconds() / 60\n",
    "\n",
    "    df = df[(df.duration >= 1) & (df.duration <= 60)]\n",
    "\n",
    "    categorical = ['PULocationID', 'DOLocationID']\n",
    "    df[categorical] = df[categorical].astype(str)\n",
    "    \n",
    "    return df\n",
    "```\n",
    "\n",
    "Let's adjust it and apply to the data we loaded in question 3. \n",
    "\n",
    "What's the size of the result? \n",
    "\n",
    "\n",
    "- 2903766\n",
    "- 3103766\n",
    "- 3316216 \n",
    "- 3503766\n",
    "\n",
    "### Answer 4: ``"
   ]
  },
  {
   "cell_type": "markdown",
   "metadata": {},
   "source": [
    "## Question 5. Train a model\n",
    "\n",
    "We will now train a linear regression model using the same code as in homework 1\n",
    "\n",
    "* Fit a dict vectorizer\n",
    "* Train a linear regression with default parameres \n",
    "* Use pick up and drop off locations separately, don't create a combination feature\n",
    "\n",
    "Let's now use it in the pipeline. We will need to create another tranformation block, and return both the dict vectorizer and the model\n",
    "\n",
    "What's the intercept of the model? \n",
    "\n",
    "Hint: print the `intercept_` field in the code block\n",
    "\n",
    "- 21.77\n",
    "- 24.77\n",
    "- 27.77\n",
    "- 31.77\n",
    "\n",
    "### Answer 5: ``"
   ]
  },
  {
   "cell_type": "markdown",
   "metadata": {},
   "source": [
    "## Question 6. Register the model \n",
    "\n",
    "The model is traned, so let's save it with MLFlow.\n",
    "\n",
    "If you run mage with docker-compose, stop it with Ctrl+C or \n",
    "\n",
    "```bash\n",
    "docker-compose down\n",
    "```\n",
    "\n",
    "Let's create a dockerfile for mlflow, e.g. `mlflow.dockerfile`:\n",
    "\n",
    "```dockerfile\n",
    "FROM python:3.10-slim\n",
    "\n",
    "RUN pip install mlflow==2.12.1\n",
    "\n",
    "EXPOSE 5000\n",
    "\n",
    "CMD [ \\\n",
    "    \"mlflow\", \"server\", \\\n",
    "    \"--backend-store-uri\", \"sqlite:///home/mlflow/mlflow.db\", \\\n",
    "    \"--host\", \"0.0.0.0\", \\\n",
    "    \"--port\", \"5000\" \\\n",
    "]\n",
    "```\n",
    "\n",
    "And add it to the docker-compose.yaml:\n",
    "\n",
    "```yaml\n",
    "  mlflow:\n",
    "    build:\n",
    "      context: .\n",
    "      dockerfile: mlflow.dockerfile\n",
    "    ports:\n",
    "      - \"5000:5000\"\n",
    "    volumes:\n",
    "      - \"${PWD}/mlflow:/home/mlflow/\"\n",
    "```\n",
    "\n",
    "We should already have `mlflow==2.12.1` in requirements.txt in the mage project we created for the module.\n",
    "\n",
    "If you're starting from scratch, add it to your requirements.\n",
    "\n",
    "### Answer 6: ``"
   ]
  }
 ],
 "metadata": {
  "kernelspec": {
   "display_name": "Python 3",
   "language": "python",
   "name": "python3"
  },
  "language_info": {
   "name": "python",
   "version": "3.11.9"
  }
 },
 "nbformat": 4,
 "nbformat_minor": 2
}
