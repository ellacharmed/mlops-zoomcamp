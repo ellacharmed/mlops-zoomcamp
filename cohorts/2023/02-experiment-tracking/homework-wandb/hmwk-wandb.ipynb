{
 "cells": [
  {
   "attachments": {},
   "cell_type": "markdown",
   "metadata": {},
   "source": [
    "# 02-experiment tracking\n",
    "\n",
    "wandb homework"
   ]
  },
  {
   "attachments": {},
   "cell_type": "markdown",
   "metadata": {},
   "source": [
    "### Get data"
   ]
  },
  {
   "attachments": {},
   "cell_type": "markdown",
   "metadata": {},
   "source": [
    "```bash\n",
    "wget https://d37ci6vzurychx.cloudfront.net/trip-data/green_tripdata_2022-01.parquet -p data/raw/\n",
    "\n",
    "wget https://d37ci6vzurychx.cloudfront.net/trip-data/green_tripdata_2022-02.parquet -p data/raw/\n",
    "\n",
    "wget https://d37ci6vzurychx.cloudfront.net/trip-data/green_tripdata_2022-03.parquet -p data/raw/\n",
    "```"
   ]
  },
  {
   "cell_type": "markdown",
   "metadata": {},
   "source": [
    "## Q1. Install the Package"
   ]
  },
  {
   "cell_type": "code",
   "execution_count": 1,
   "metadata": {},
   "outputs": [
    {
     "name": "stdout",
     "output_type": "stream",
     "text": [
      "wandb, version 0.15.3\n"
     ]
    }
   ],
   "source": [
    "# !wandb --version\n",
    "\n",
    "# wandb, version 0.15.3"
   ]
  },
  {
   "attachments": {},
   "cell_type": "markdown",
   "metadata": {},
   "source": [
    "## Q2. Download and preprocess the data\n",
    "\n",
    "```bash\n",
    "python preprocess_data.py \\\n",
    ">  --wandb_project ella-wandb-hmwk \\     \n",
    ">  --wandb_entity ellacharmed \\     \n",
    ">  --raw_data_path ../homework/data/raw \\ \n",
    "  --dest_path ./output\n",
    "```\n",
    "\n",
    "```\n",
    "\"contents\": {\n",
    "        \"dv.pkl\": {\n",
    "            \"digest\": \"QQxYdjCG+hs3Iq6uU+STIw==\",\n",
    "            \"birthArtifactID\": \"QXJ0aWZhY3Q6NDc3MTI2MDA0\",\n",
    "            \"size\": 153660\n",
    "        },\n",
    "```\n",
    "\n",
    "Q2: Once you navigate to the Files tab of your artifact on your Weights & Biases page, what's the size of the saved DictVectorizer file?\n",
    "A2: 154 kB\n"
   ]
  },
  {
   "attachments": {},
   "cell_type": "markdown",
   "metadata": {},
   "source": [
    "## Q3. Train a model with Weights & Biases logging\n",
    "\n",
    "```bash\n",
    "python train.py \\\n",
    ">  --wandb_project ella-wandb-hmwk \\\n",
    ">  --wandb_entity ellacharmed \\\n",
    ">  --data_artifact \"ellacharmed/ella-wandb-hmwk/NYC-Taxi:v0\"\n",
    "```\n",
    "\n",
    "Q3: What is the value of the max_depth parameter:\n",
    "A3: 10"
   ]
  },
  {
   "attachments": {},
   "cell_type": "markdown",
   "metadata": {},
   "source": [
    "## Q4. Tune model hyperparameters\n",
    "\n",
    "```bash\n",
    "python sweep.py \\\n",
    ">  --wandb_project ella-wandb-hmwk \\\n",
    ">  --wandb_entity ellacharmed \\\n",
    ">  --data_artifact \"ellacharmed/ella-wandb-hmwk/NYC-Taxi:v0\"\n",
    "```\n",
    "\n",
    "Q4: You can take a look at the sweep on your Weights & Biases dashboard, take a look at the Parameter Inportance Panel and the Parallel Coordinates Plot to determine, and analyze which hyperparameter is the most important:\n",
    "A4: min_samples_leaf"
   ]
  },
  {
   "attachments": {},
   "cell_type": "markdown",
   "metadata": {},
   "source": [
    "## Q5. Link the best model to the model registry\n",
    "\n",
    "Q5: \n",
    "A5: All of the above"
   ]
  }
 ],
 "metadata": {
  "kernelspec": {
   "display_name": "zoomcamp",
   "language": "python",
   "name": "python3"
  },
  "language_info": {
   "codemirror_mode": {
    "name": "ipython",
    "version": 3
   },
   "file_extension": ".py",
   "mimetype": "text/x-python",
   "name": "python",
   "nbconvert_exporter": "python",
   "pygments_lexer": "ipython3",
   "version": "3.9.16"
  },
  "orig_nbformat": 4
 },
 "nbformat": 4,
 "nbformat_minor": 2
}
