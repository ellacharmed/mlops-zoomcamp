{
  "cells": [
    {
      "cell_type": "markdown",
      "id": "630a2437",
      "metadata": {
        "id": "630a2437"
      },
      "source": [
        "# Getting Started Tutorial"
      ]
    },
    {
      "cell_type": "markdown",
      "id": "3c3dfc08",
      "metadata": {
        "id": "3c3dfc08"
      },
      "source": [
        "[Tutorial source](https://docs.evidentlyai.com/get-started/tutorial)\n",
        "\n",
        "\n",
        "To install Evidently using the pip package manager, run:\n",
        "\n",
        "```$ pip install evidently```\n",
        "\n",
        "\n",
        "If you want to see reports inside a Jupyter notebook, you need to also install the Jupyter nbextension. After installing evidently, run the two following commands in the terminal from the Evidently directory.\n",
        "\n",
        "To install jupyter nbextension, run:\n",
        "\n",
        "```$ jupyter nbextension install --sys-prefix --symlink --overwrite --py evidently```\n",
        "\n",
        "To enable it, run:\n",
        "\n",
        "```$ jupyter nbextension enable evidently --py --sys-prefix```\n",
        "\n",
        "That's it!"
      ]
    },
    {
      "cell_type": "code",
      "execution_count": null,
      "id": "aec9a1cc",
      "metadata": {
        "colab": {
          "base_uri": "https://localhost:8080/"
        },
        "id": "aec9a1cc",
        "outputId": "2dd85de0-ee81-48f3-f59c-e6aa70d3bdf6"
      },
      "outputs": [],
      "source": [
        "# try:\n",
        "#     import evidently\n",
        "# except:\n",
        "#     !pip install git+https://github.com/evidentlyai/evidently.git"
      ]
    },
    {
      "cell_type": "code",
      "execution_count": null,
      "id": "0c00061b",
      "metadata": {
        "id": "0c00061b"
      },
      "outputs": [],
      "source": [
        "import pandas as pd\n",
        "import numpy as np\n",
        "\n",
        "from sklearn.datasets import fetch_california_housing\n",
        "\n",
        "from evidently import ColumnMapping\n",
        "\n",
        "from evidently.report import Report\n",
        "from evidently.metrics.base_metric import generate_column_metrics\n",
        "from evidently.metric_preset import DataDriftPreset, TargetDriftPreset, DataQualityPreset, RegressionPreset\n",
        "from evidently.metrics import *\n",
        "\n",
        "from evidently.test_suite import TestSuite\n",
        "from evidently.tests.base_test import generate_column_tests\n",
        "from evidently.test_preset import DataStabilityTestPreset, NoTargetPerformanceTestPreset, RegressionTestPreset\n",
        "from evidently.tests import *"
      ]
    },
    {
      "cell_type": "code",
      "execution_count": null,
      "id": "56d3e494",
      "metadata": {
        "id": "56d3e494"
      },
      "outputs": [],
      "source": [
        "import warnings\n",
        "warnings.filterwarnings('ignore')\n",
        "warnings.simplefilter('ignore')"
      ]
    },
    {
      "cell_type": "markdown",
      "id": "1dca5a2c",
      "metadata": {
        "id": "1dca5a2c"
      },
      "source": [
        "## Load Data"
      ]
    },
    {
      "cell_type": "code",
      "execution_count": null,
      "id": "5c9d9f9e",
      "metadata": {
        "id": "5c9d9f9e"
      },
      "outputs": [],
      "source": [
        "data = fetch_california_housing(as_frame=True)\n",
        "housing_data = data.frame"
      ]
    },
    {
      "cell_type": "code",
      "execution_count": null,
      "id": "60692ed0",
      "metadata": {
        "id": "60692ed0"
      },
      "outputs": [],
      "source": [
        "housing_data.rename(columns={'MedHouseVal': 'target'}, inplace=True)\n",
        "housing_data['prediction'] = housing_data['target'].values + np.random.normal(0, 5, housing_data.shape[0])"
      ]
    },
    {
      "cell_type": "code",
      "execution_count": null,
      "id": "f48b2f20",
      "metadata": {
        "id": "f48b2f20"
      },
      "outputs": [],
      "source": [
        "reference = housing_data.sample(n=5000, replace=False)\n",
        "current = housing_data.sample(n=5000, replace=False)"
      ]
    },
    {
      "cell_type": "markdown",
      "id": "fedb4612",
      "metadata": {
        "id": "fedb4612"
      },
      "source": [
        "## Report"
      ]
    },
    {
      "cell_type": "code",
      "execution_count": null,
      "id": "bb77cbe1",
      "metadata": {
        "colab": {
          "base_uri": "https://localhost:8080/",
          "height": 1000
        },
        "id": "bb77cbe1",
        "outputId": "eeaab5a1-f10c-49cc-8351-bc14849215e2"
      },
      "outputs": [],
      "source": [
        "report = Report(metrics=[\n",
        "    DataDriftPreset(),\n",
        "])\n",
        "\n",
        "report.run(reference_data=reference, current_data=current)\n",
        "report"
      ]
    },
    {
      "cell_type": "code",
      "execution_count": null,
      "id": "7e7de377",
      "metadata": {
        "colab": {
          "base_uri": "https://localhost:8080/",
          "height": 1000
        },
        "id": "7e7de377",
        "outputId": "43ca4bdb-7233-4d80-86ac-30544c3e3378"
      },
      "outputs": [],
      "source": [
        "report = Report(metrics=[\n",
        "    ColumnSummaryMetric(column_name='AveRooms'),\n",
        "    ColumnQuantileMetric(column_name='AveRooms', quantile=0.25),\n",
        "    ColumnDriftMetric(column_name='AveRooms'),\n",
        "\n",
        "])\n",
        "\n",
        "report.run(reference_data=reference, current_data=current)\n",
        "report"
      ]
    },
    {
      "cell_type": "code",
      "execution_count": null,
      "id": "9e95865e",
      "metadata": {
        "colab": {
          "base_uri": "https://localhost:8080/",
          "height": 1000
        },
        "id": "9e95865e",
        "outputId": "32a14a79-dbed-4b2b-dcda-5382ff680516"
      },
      "outputs": [],
      "source": [
        "report = Report(metrics=[\n",
        "    generate_column_metrics(ColumnQuantileMetric, parameters={'quantile':0.25}, columns=['AveRooms', 'AveBedrms']),\n",
        "])\n",
        "\n",
        "report.run(reference_data=reference, current_data=current)\n",
        "report"
      ]
    },
    {
      "cell_type": "code",
      "execution_count": null,
      "id": "79923882",
      "metadata": {},
      "outputs": [],
      "source": [
        "current.describe()"
      ]
    },
    {
      "cell_type": "code",
      "execution_count": null,
      "id": "fc3f8a8f",
      "metadata": {
        "colab": {
          "base_uri": "https://localhost:8080/",
          "height": 1000
        },
        "id": "fc3f8a8f",
        "outputId": "48b1c640-bc1d-41cc-b841-e120e49594be",
        "scrolled": true
      },
      "outputs": [],
      "source": [
        "report = Report(metrics=[\n",
        "    ColumnSummaryMetric(column_name='AveRooms'),\n",
        "    generate_column_metrics(ColumnQuantileMetric, parameters={'quantile':0.25}, columns='num'),\n",
        "    DataDriftPreset()\n",
        "])\n",
        "\n",
        "report.run(reference_data=reference, current_data=current)\n",
        "report"
      ]
    },
    {
      "cell_type": "code",
      "execution_count": null,
      "id": "GUmkHWx3uc2j",
      "metadata": {
        "id": "GUmkHWx3uc2j"
      },
      "outputs": [],
      "source": [
        "#report.save_html('report.html')"
      ]
    },
    {
      "cell_type": "code",
      "execution_count": null,
      "id": "d72ca314",
      "metadata": {
        "colab": {
          "base_uri": "https://localhost:8080/"
        },
        "id": "d72ca314",
        "outputId": "8fd3e4b5-7210-4db7-d6af-032c3e582ab9",
        "scrolled": false
      },
      "outputs": [],
      "source": [
        "report.as_dict()"
      ]
    },
    {
      "cell_type": "code",
      "execution_count": null,
      "id": "ab320537",
      "metadata": {
        "colab": {
          "base_uri": "https://localhost:8080/",
          "height": 161
        },
        "id": "ab320537",
        "outputId": "2312f584-ea27-493c-c4c5-c09fcf92df4a"
      },
      "outputs": [],
      "source": [
        "report.json()"
      ]
    },
    {
      "cell_type": "code",
      "execution_count": null,
      "id": "fd4e9085",
      "metadata": {
        "id": "fd4e9085"
      },
      "outputs": [],
      "source": [
        "#report.save_json('report.json')"
      ]
    },
    {
      "cell_type": "markdown",
      "id": "1ea31ae7",
      "metadata": {
        "id": "1ea31ae7"
      },
      "source": [
        "## Test Suite"
      ]
    },
    {
      "cell_type": "code",
      "execution_count": null,
      "id": "f2311155",
      "metadata": {
        "colab": {
          "base_uri": "https://localhost:8080/",
          "height": 1000
        },
        "id": "f2311155",
        "outputId": "90689ea4-4363-4f5c-ba74-0da193f87329"
      },
      "outputs": [],
      "source": [
        "tests = TestSuite(tests=[\n",
        "    TestNumberOfColumnsWithMissingValues(),\n",
        "    TestNumberOfRowsWithMissingValues(),\n",
        "    TestNumberOfConstantColumns(),\n",
        "    TestNumberOfDuplicatedRows(),\n",
        "    TestNumberOfDuplicatedColumns(),\n",
        "    TestColumnsType(),\n",
        "    TestNumberOfDriftedColumns(),\n",
        "])\n",
        "\n",
        "tests.run(reference_data=reference, current_data=current)\n",
        "tests"
      ]
    },
    {
      "cell_type": "code",
      "execution_count": null,
      "id": "d78779bb",
      "metadata": {
        "colab": {
          "base_uri": "https://localhost:8080/",
          "height": 1000
        },
        "id": "d78779bb",
        "outputId": "6dfd5ca4-9ab2-4417-8454-e9d438eb4d7e",
        "scrolled": false
      },
      "outputs": [],
      "source": [
        "suite = TestSuite(tests=[\n",
        "    NoTargetPerformanceTestPreset(),\n",
        "])\n",
        "\n",
        "suite.run(reference_data=reference, current_data=current)\n",
        "suite"
      ]
    },
    {
      "cell_type": "code",
      "execution_count": null,
      "id": "e92a0605",
      "metadata": {
        "colab": {
          "base_uri": "https://localhost:8080/",
          "height": 1000
        },
        "id": "e92a0605",
        "outputId": "04ecc4dd-eda1-4692-8e6d-e1e7b708e26a"
      },
      "outputs": [],
      "source": [
        "suite = TestSuite(tests=[\n",
        "    TestColumnDrift('Population'),\n",
        "    TestMeanInNSigmas('HouseAge'),\n",
        "    NoTargetPerformanceTestPreset(columns=['AveRooms', 'AveBedrms', 'AveOccup'])\n",
        "])\n",
        "\n",
        "suite.run(reference_data=reference, current_data=current)\n",
        "suite"
      ]
    },
    {
      "cell_type": "code",
      "execution_count": null,
      "id": "7df650c7",
      "metadata": {
        "colab": {
          "base_uri": "https://localhost:8080/",
          "height": 1000
        },
        "id": "7df650c7",
        "outputId": "65d7c337-261f-4ae9-b60c-2be79b010237"
      },
      "outputs": [],
      "source": [
        "suite = TestSuite(tests=[\n",
        "    TestNumberOfColumnsWithMissingValues(),\n",
        "    TestNumberOfRowsWithMissingValues(),\n",
        "    TestNumberOfConstantColumns(),\n",
        "    TestNumberOfDuplicatedRows(),\n",
        "    TestNumberOfDuplicatedColumns(),\n",
        "    TestColumnsType(),\n",
        "    TestNumberOfDriftedColumns(),\n",
        "    TestColumnDrift('Population'),\n",
        "    TestShareOfOutRangeValues('Population'),\n",
        "    DataStabilityTestPreset(),\n",
        "    RegressionTestPreset()\n",
        "\n",
        "])\n",
        "\n",
        "suite.run(reference_data=reference, current_data=current)\n",
        "suite"
      ]
    },
    {
      "cell_type": "code",
      "execution_count": null,
      "id": "20da511b",
      "metadata": {
        "colab": {
          "base_uri": "https://localhost:8080/"
        },
        "id": "20da511b",
        "outputId": "2ddce862-5257-4948-ed39-7462efa69bbd",
        "scrolled": false
      },
      "outputs": [],
      "source": [
        "suite.as_dict()"
      ]
    },
    {
      "cell_type": "code",
      "execution_count": null,
      "id": "3c1c476f",
      "metadata": {
        "colab": {
          "base_uri": "https://localhost:8080/",
          "height": 161
        },
        "id": "3c1c476f",
        "outputId": "7022631e-030c-4a81-b5a9-682c3f7a9ac5"
      },
      "outputs": [],
      "source": [
        "suite.json()"
      ]
    },
    {
      "cell_type": "code",
      "execution_count": null,
      "id": "e4225064",
      "metadata": {
        "id": "e4225064"
      },
      "outputs": [],
      "source": [
        "#suite.save_html('test_suite.html')"
      ]
    },
    {
      "cell_type": "code",
      "execution_count": null,
      "id": "5fedd579",
      "metadata": {
        "id": "5fedd579"
      },
      "outputs": [],
      "source": [
        "#suite.save_json('test_suite.json')"
      ]
    },
    {
      "cell_type": "markdown",
      "id": "bEXCzrTCuc2k",
      "metadata": {
        "id": "bEXCzrTCuc2k"
      },
      "source": [
        "# Support Evidently\n",
        "Did you find the example useful? Star Evidently on GitHub to contribute back! This helps us continue creating free open-source tools for the community. https://github.com/evidentlyai/evidently"
      ]
    }
  ],
  "metadata": {
    "colab": {
      "provenance": [],
      "toc_visible": true
    },
    "kernelspec": {
      "display_name": "Python 3 (ipykernel)",
      "language": "python",
      "name": "python3"
    },
    "language_info": {
      "codemirror_mode": {
        "name": "ipython",
        "version": 3
      },
      "file_extension": ".py",
      "mimetype": "text/x-python",
      "name": "python",
      "nbconvert_exporter": "python",
      "pygments_lexer": "ipython3",
      "version": "3.11.9"
    }
  },
  "nbformat": 4,
  "nbformat_minor": 5
}
